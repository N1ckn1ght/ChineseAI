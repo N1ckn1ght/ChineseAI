{
 "cells": [
  {
   "cell_type": "code",
   "execution_count": 1,
   "id": "0af1c4b0-45f7-47c1-9006-30ad38feba52",
   "metadata": {},
   "outputs": [],
   "source": [
    "import cv2\n",
    "import matplotlib.pyplot as plt\n",
    "import numpy as np\n",
    "import pandas as pd\n",
    "import tensorflow as tf\n",
    "from sklearn.metrics import classification_report\n",
    "from sklearn.utils import shuffle\n",
    "from tensorflow import keras\n",
    "from tensorflow.keras.layers import Dense, Conv2D, MaxPool2D, Flatten\n",
    "from tensorflow.keras.models import Sequential\n",
    "from tensorflow.keras.utils import to_categorical\n",
    "from tqdm import tqdm"
   ]
  },
  {
   "cell_type": "code",
   "execution_count": 2,
   "id": "3170ee63-5689-485e-8b0f-c509df8cd535",
   "metadata": {},
   "outputs": [],
   "source": [
    "annotations = pd.read_csv(\"chinese/chinese_mnist.csv\")"
   ]
  },
  {
   "cell_type": "code",
   "execution_count": 3,
   "id": "f5ae4c69-650b-4831-a3c6-606b4bdaccab",
   "metadata": {},
   "outputs": [
    {
     "name": "stderr",
     "output_type": "stream",
     "text": [
      "100%|██████████████████████████████████████████████████████████████████████████| 15000/15000 [00:10<00:00, 1496.10it/s]\n"
     ]
    }
   ],
   "source": [
    "X = []\n",
    "Y = []\n",
    "codes = [-1 for i in range(15)]\n",
    "\n",
    "with tqdm(total=annotations.shape[0]) as pbar:\n",
    "    for index, row in annotations.iterrows():\n",
    "        suite_id, sample_id, code, value = row[0], row[1], row[2], row[3]\n",
    "        img = np.array(keras.preprocessing.image.load_img(f\"chinese/data/data/input_{suite_id}_{sample_id}_{code}.jpg\"))[:,:,0]\n",
    "        X.append(img)\n",
    "        Y.append(code - 1)\n",
    "        codes[code - 1] = value\n",
    "        pbar.update(1)\n",
    "\n",
    "X = np.array(X)\n",
    "X = X.reshape(*X.shape, 1)\n",
    "Y = np.array(Y)\n",
    "Y = Y.reshape(*Y.shape, 1)"
   ]
  },
  {
   "cell_type": "code",
   "execution_count": 123,
   "id": "f88ccc05-c4a7-40e0-b473-513cec0c4f84",
   "metadata": {},
   "outputs": [
    {
     "name": "stdout",
     "output_type": "stream",
     "text": [
      "[10]\n"
     ]
    },
    {
     "data": {
      "image/png": "[encoded data removed]",
      "text/plain": [
       "<Figure size 432x288 with 1 Axes>"
      ]
     },
     "metadata": {
      "needs_background": "light"
     },
     "output_type": "display_data"
    }
   ],
   "source": [
    "i = 1337\n",
    "\n",
    "plt.imshow(X[i])\n",
    "print(Y[i])"
   ]
  },
  {
   "cell_type": "code",
   "execution_count": 124,
   "id": "b5430b04-02a1-491b-bbb8-96680d95818a",
   "metadata": {},
   "outputs": [
    {
     "name": "stdout",
     "output_type": "stream",
     "text": [
      "[0, 1, 2, 3, 4, 5, 6, 7, 8, 9, 10, 100, 1000, 10000, 100000000]\n",
      "15\n",
      "uint8\n"
     ]
    }
   ],
   "source": [
    "print(codes)\n",
    "print(len(codes))\n",
    "print(X[0].dtype)"
   ]
  },
  {
   "cell_type": "code",
   "execution_count": 125,
   "id": "95f87af9-2623-48ab-9204-40a62c3f4023",
   "metadata": {},
   "outputs": [],
   "source": [
    "X, Y = shuffle(X, Y)"
   ]
  },
  {
   "cell_type": "code",
   "execution_count": 126,
   "id": "d5af8c86-bfd5-4576-a494-f583c4a99ac9",
   "metadata": {},
   "outputs": [
    {
     "data": {
      "text/plain": [
       "15000"
      ]
     },
     "execution_count": 126,
     "metadata": {},
     "output_type": "execute_result"
    }
   ],
   "source": [
    "len(X)"
   ]
  },
  {
   "cell_type": "code",
   "execution_count": 127,
   "id": "3cf46d02-289c-45a5-88a6-03fb9b39ae83",
   "metadata": {},
   "outputs": [],
   "source": [
    "train_size = 12580\n",
    "valid_size = 2220\n",
    "test_size = 200"
   ]
  },
  {
   "cell_type": "code",
   "execution_count": 128,
   "id": "d8d1eb3c-17fa-44d0-8fa2-3cd3ecdff7e8",
   "metadata": {},
   "outputs": [],
   "source": [
    "X_train = X[0:train_size]\n",
    "X_valid = X[train_size:train_size+valid_size]\n",
    "X_test = X[train_size+valid_size:train_size+valid_size+test_size]\n",
    "Y_train = Y[0:train_size]\n",
    "Y_valid = Y[train_size:train_size+valid_size]\n",
    "Y_test = Y[train_size+valid_size:train_size+valid_size+test_size]"
   ]
  },
  {
   "cell_type": "code",
   "execution_count": 129,
   "id": "b7f92044-9cda-49c0-8c03-12ed3e5598e6",
   "metadata": {},
   "outputs": [
    {
     "name": "stdout",
     "output_type": "stream",
     "text": [
      "12580 12580 2220 2220 200 200\n"
     ]
    }
   ],
   "source": [
    "print(len(X_train), len(Y_train), len(X_valid), len(Y_valid), len(X_test), len(Y_test))"
   ]
  },
  {
   "cell_type": "code",
   "execution_count": 130,
   "id": "8e53c8d2-eb40-4fe6-8f99-fb4e42ac2ec7",
   "metadata": {},
   "outputs": [],
   "source": [
    "Y_cat_train = to_categorical(Y_train, len(codes))\n",
    "Y_cat_valid = to_categorical(Y_valid, len(codes))\n",
    "Y_cat_test = to_categorical(Y_test, len(codes))"
   ]
  },
  {
   "cell_type": "code",
   "execution_count": 142,
   "id": "bb84d732-9e4c-4f9d-a889-18992f594a9e",
   "metadata": {},
   "outputs": [
    {
     "name": "stdout",
     "output_type": "stream",
     "text": [
      "Model: \"sequential_15\"\n",
      "_________________________________________________________________\n",
      " Layer (type)                Output Shape              Param #   \n",
      "=================================================================\n",
      " conv2d_37 (Conv2D)          (None, 64, 64, 16)        416       \n",
      "                                                                 \n",
      " max_pooling2d_27 (MaxPoolin  (None, 32, 32, 16)       0         \n",
      " g2D)                                                            \n",
      "                                                                 \n",
      " conv2d_38 (Conv2D)          (None, 32, 32, 32)        12832     \n",
      "                                                                 \n",
      " max_pooling2d_28 (MaxPoolin  (None, 16, 16, 32)       0         \n",
      " g2D)                                                            \n",
      "                                                                 \n",
      " conv2d_39 (Conv2D)          (None, 16, 16, 64)        51264     \n",
      "                                                                 \n",
      " max_pooling2d_29 (MaxPoolin  (None, 8, 8, 64)         0         \n",
      " g2D)                                                            \n",
      "                                                                 \n",
      " conv2d_40 (Conv2D)          (None, 8, 8, 128)         204928    \n",
      "                                                                 \n",
      " max_pooling2d_30 (MaxPoolin  (None, 4, 4, 128)        0         \n",
      " g2D)                                                            \n",
      "                                                                 \n",
      " conv2d_41 (Conv2D)          (None, 4, 4, 256)         819456    \n",
      "                                                                 \n",
      " flatten_6 (Flatten)         (None, 4096)              0         \n",
      "                                                                 \n",
      " dense_9 (Dense)             (None, 128)               524416    \n",
      "                                                                 \n",
      " dense_10 (Dense)            (None, 15)                1935      \n",
      "                                                                 \n",
      "=================================================================\n",
      "Total params: 1,615,247\n",
      "Trainable params: 1,615,247\n",
      "Non-trainable params: 0\n",
      "_________________________________________________________________\n"
     ]
    }
   ],
   "source": [
    "model = Sequential()\n",
    "model.add(Conv2D(16, (5, 5), padding=\"same\", input_shape=(X.shape[1:]), activation=\"relu\"))\n",
    "model.add(MaxPool2D())\n",
    "model.add(Conv2D(32, (5, 5), padding=\"same\", activation=\"relu\"))\n",
    "model.add(MaxPool2D())\n",
    "model.add(Conv2D(64, (5, 5), padding=\"same\", activation=\"relu\"))\n",
    "model.add(MaxPool2D())\n",
    "model.add(Conv2D(128, (5, 5), padding=\"same\", activation=\"relu\"))\n",
    "model.add(MaxPool2D())\n",
    "model.add(Conv2D(256, (5, 5), padding=\"same\", activation=\"relu\"))\n",
    "model.add(Flatten())\n",
    "model.add(Dense(128, activation=\"relu\"))\n",
    "model.add(Dense(len(codes), activation=\"softmax\"))\n",
    "model.compile(loss=\"categorical_crossentropy\", optimizer=\"adam\", metrics=[\"accuracy\"])\n",
    "model.summary()"
   ]
  },
  {
   "cell_type": "code",
   "execution_count": 143,
   "id": "1784d661-4731-4f33-8198-69489220dc76",
   "metadata": {},
   "outputs": [
    {
     "name": "stdout",
     "output_type": "stream",
     "text": [
      "Epoch 1/20\n",
      "787/787 [==============================] - 139s 176ms/step - loss: 0.7161 - accuracy: 0.7669 - val_loss: 0.1301 - val_accuracy: 0.9617\n",
      "Epoch 2/20\n",
      "787/787 [==============================] - 155s 197ms/step - loss: 0.1126 - accuracy: 0.9680 - val_loss: 0.1091 - val_accuracy: 0.9658\n",
      "Epoch 3/20\n",
      "787/787 [==============================] - 158s 201ms/step - loss: 0.0791 - accuracy: 0.9771 - val_loss: 0.1750 - val_accuracy: 0.9514ss\n",
      "Epoch 4/20\n",
      "787/787 [==============================] - 156s 199ms/step - loss: 0.0528 - accuracy: 0.9855 - val_loss: 0.0604 - val_accuracy: 0.9815\n",
      "Epoch 5/20\n",
      "787/787 [==============================] - 159s 203ms/step - loss: 0.0689 - accuracy: 0.9804 - val_loss: 0.0753 - val_accuracy: 0.9833\n",
      "Epoch 6/20\n",
      "787/787 [==============================] - 139s 176ms/step - loss: 0.0678 - accuracy: 0.9838 - val_loss: 0.0570 - val_accuracy: 0.9815\n",
      "Epoch 7/20\n",
      "787/787 [==============================] - 123s 157ms/step - loss: 0.0425 - accuracy: 0.9895 - val_loss: 0.0430 - val_accuracy: 0.9896\n",
      "Epoch 8/20\n",
      "787/787 [==============================] - 120s 153ms/step - loss: 0.0552 - accuracy: 0.9886 - val_loss: 0.0585 - val_accuracy: 0.9887\n",
      "Epoch 9/20\n",
      "787/787 [==============================] - 128s 162ms/step - loss: 0.0417 - accuracy: 0.9905 - val_loss: 0.0904 - val_accuracy: 0.9797\n",
      "Epoch 10/20\n",
      "787/787 [==============================] - 128s 162ms/step - loss: 0.0451 - accuracy: 0.9895 - val_loss: 0.0534 - val_accuracy: 0.9869\n",
      "Epoch 11/20\n",
      "787/787 [==============================] - 136s 173ms/step - loss: 0.0472 - accuracy: 0.9897 - val_loss: 0.0524 - val_accuracy: 0.9901\n",
      "Epoch 12/20\n",
      "787/787 [==============================] - 121s 153ms/step - loss: 0.0425 - accuracy: 0.9911 - val_loss: 0.0501 - val_accuracy: 0.9914\n",
      "Epoch 13/20\n",
      "787/787 [==============================] - 139s 177ms/step - loss: 0.0355 - accuracy: 0.9933 - val_loss: 0.1320 - val_accuracy: 0.9824\n",
      "Epoch 14/20\n",
      "787/787 [==============================] - 127s 161ms/step - loss: 0.0559 - accuracy: 0.9884 - val_loss: 0.0290 - val_accuracy: 0.9928\n",
      "Epoch 15/20\n",
      "787/787 [==============================] - 138s 176ms/step - loss: 0.0370 - accuracy: 0.9940 - val_loss: 0.0727 - val_accuracy: 0.9874\n",
      "Epoch 16/20\n",
      "787/787 [==============================] - 122s 155ms/step - loss: 0.0469 - accuracy: 0.9920 - val_loss: 0.0932 - val_accuracy: 0.9892\n",
      "Epoch 17/20\n",
      "787/787 [==============================] - 121s 154ms/step - loss: 0.0482 - accuracy: 0.9917 - val_loss: 0.0221 - val_accuracy: 0.9932\n",
      "Epoch 18/20\n",
      "787/787 [==============================] - 122s 154ms/step - loss: 0.0256 - accuracy: 0.9947 - val_loss: 0.0240 - val_accuracy: 0.9950\n",
      "Epoch 19/20\n",
      "787/787 [==============================] - 122s 154ms/step - loss: 0.0680 - accuracy: 0.9901 - val_loss: 0.1057 - val_accuracy: 0.9811\n",
      "Epoch 20/20\n",
      "787/787 [==============================] - 121s 154ms/step - loss: 0.0533 - accuracy: 0.9914 - val_loss: 0.0531 - val_accuracy: 0.9923\n"
     ]
    }
   ],
   "source": [
    "result = model.fit(X_train, \n",
    "                   Y_cat_train, \n",
    "                   validation_data=(X_valid, Y_cat_valid), \n",
    "                   batch_size=16, \n",
    "                   epochs=20,\n",
    "                   shuffle=True,\n",
    "                   verbose=1)"
   ]
  },
  {
   "cell_type": "code",
   "execution_count": 144,
   "id": "1993e02f-ed3f-489d-8773-9b32aece6fea",
   "metadata": {},
   "outputs": [],
   "source": [
    "# starting from epoch 4 it doesn't make much sense to continue, but anyway"
   ]
  },
  {
   "cell_type": "code",
   "execution_count": 145,
   "id": "3db2f134-0caa-4b27-9ebb-bef1d8c9fc4f",
   "metadata": {},
   "outputs": [],
   "source": [
    "model.save_weights('weights_chinese')\n",
    "model.save('model_chinese.h5')"
   ]
  },
  {
   "cell_type": "code",
   "execution_count": 173,
   "id": "67acbbb6-8e23-44cb-a949-13eb9b1496c3",
   "metadata": {},
   "outputs": [
    {
     "name": "stdout",
     "output_type": "stream",
     "text": [
      "the code is 0 so the values is 0\n",
      "approx code is 0 so predicted value is 0\n"
     ]
    },
    {
     "data": {
      "image/png": "[encoded data removed]",
      "text/plain": [
       "<Figure size 432x288 with 1 Axes>"
      ]
     },
     "metadata": {
      "needs_background": "light"
     },
     "output_type": "display_data"
    }
   ],
   "source": [
    "i = 0\n",
    "\n",
    "plt.imshow(X_test[i])\n",
    "print(\"the code is\", Y_test[i][0], \"so the values is\", codes[Y_test[i][0]])\n",
    "\n",
    "res = model.predict(X_test[i].reshape(1, 64, 64, 1), 1)\n",
    "print(\"approx code is\", np.argmax(res), \"so predicted value is\", codes[np.argmax(res)])"
   ]
  },
  {
   "cell_type": "code",
   "execution_count": 175,
   "id": "920a0511-feca-416c-ab8a-15c334075433",
   "metadata": {},
   "outputs": [
    {
     "name": "stdout",
     "output_type": "stream",
     "text": [
      "              precision    recall  f1-score   support\n",
      "\n",
      "           0       1.00      1.00      1.00        14\n",
      "           1       1.00      1.00      1.00        16\n",
      "           2       1.00      1.00      1.00        12\n",
      "           3       1.00      1.00      1.00        14\n",
      "           4       1.00      0.91      0.95        11\n",
      "           5       1.00      1.00      1.00        15\n",
      "           6       1.00      1.00      1.00         9\n",
      "           7       1.00      1.00      1.00        19\n",
      "           8       1.00      1.00      1.00        10\n",
      "           9       1.00      1.00      1.00         8\n",
      "          10       1.00      1.00      1.00        14\n",
      "          11       0.91      1.00      0.95        10\n",
      "          12       1.00      1.00      1.00        13\n",
      "          13       1.00      1.00      1.00        20\n",
      "          14       1.00      1.00      1.00        15\n",
      "\n",
      "    accuracy                           0.99       200\n",
      "   macro avg       0.99      0.99      0.99       200\n",
      "weighted avg       1.00      0.99      0.99       200\n",
      "\n"
     ]
    }
   ],
   "source": [
    "# testing using test dataset with no changes\n",
    "\n",
    "predictions = np.argmax(model.predict(X_test), 1)\n",
    "print(classification_report(Y_test, predictions))"
   ]
  },
  {
   "cell_type": "code",
   "execution_count": 176,
   "id": "28f53aee-1fe7-44ff-8b6b-3ad1477fa7da",
   "metadata": {},
   "outputs": [
    {
     "name": "stdout",
     "output_type": "stream",
     "text": [
      "7/7 [==============================] - 0s 63ms/step - loss: 0.0126 - accuracy: 0.9950 0s - loss: 0.0033 - accuracy: \n"
     ]
    },
    {
     "data": {
      "text/plain": [
       "[0.012577047571539879, 0.9950000047683716]"
      ]
     },
     "execution_count": 176,
     "metadata": {},
     "output_type": "execute_result"
    }
   ],
   "source": [
    "model.evaluate(X_test, Y_cat_test)"
   ]
  },
  {
   "cell_type": "code",
   "execution_count": 4,
   "id": "7e95cc5a-e457-4c6d-9259-b75e29c4e3f4",
   "metadata": {},
   "outputs": [],
   "source": [
    "model = tf.keras.models.load_model(\"model_chinese.h5\")"
   ]
  },
  {
   "cell_type": "code",
   "execution_count": 5,
   "id": "7df32d85-c2e7-4c85-b251-b5e4cee5f1aa",
   "metadata": {},
   "outputs": [],
   "source": [
    "drawing = False\n",
    "pt1_x = None\n",
    "pt1_y = None\n",
    "gthickness = 5\n",
    "text = \"\"\n",
    "\n",
    "\n",
    "def mouse_callback(event, x, y, flags, param):\n",
    "    global pt1_x, pt1_y, gthickness, drawing\n",
    "    if event == cv2.EVENT_LBUTTONDOWN:\n",
    "        drawing = True\n",
    "        pt1_x, pt1_y = x, y\n",
    "    elif event == cv2.EVENT_MOUSEMOVE:\n",
    "        if drawing:\n",
    "            cv2.line(image, (pt1_x, pt1_y), (x, y), color=(255, 255, 255), thickness=gthickness)\n",
    "            pt1_x, pt1_y = x, y\n",
    "    elif event == cv2.EVENT_LBUTTONUP:\n",
    "        drawing = False\n",
    "        cv2.line(image, (pt1_x, pt1_y), (x, y), color=(255, 255, 255), thickness=gthickness)\n",
    "\n",
    "\n",
    "blank = np.zeros((256, 256, 3), np.uint8)\n",
    "image = blank.copy()\n",
    "cv2.namedWindow(\"Image\")\n",
    "cv2.setMouseCallback(\"Image\", mouse_callback)\n",
    "\n",
    "saved_images = []\n",
    "saved_predictions = []\n",
    "\n",
    "while True:\n",
    "    cv2.imshow(\"Image\", image)\n",
    "    cv2.putText(image, text, (10, 30), cv2.FONT_HERSHEY_SIMPLEX, 1, (0, 0, 255))\n",
    "    \n",
    "    key = cv2.waitKey(8)\n",
    "    if key == ord('q'):\n",
    "        break\n",
    "    elif key == ord('c'):\n",
    "        image = blank.copy()\n",
    "        text = \"\"\n",
    "    elif key == ord('a'):\n",
    "        gthickness += 1\n",
    "        print(\"+ New thickness:\", gthickness)\n",
    "    elif key == ord('s'):\n",
    "        gthickness -= 1\n",
    "        print(\"- New thickness:\", gthickness)\n",
    "    elif key == ord('t'):\n",
    "        pimg = cv2.cvtColor(image, cv2.COLOR_BGR2GRAY)\n",
    "        pimg = cv2.resize(pimg, (64, 64))\n",
    "        pimg = pimg.reshape(1, 64, 64, 1)\n",
    "        prediction = np.argmax(model.predict(pimg), 1)\n",
    "        saved_images.append(pimg)\n",
    "        saved_predictions.append(pimg)\n",
    "        text = str(codes[prediction[0]])\n",
    "\n",
    "cv2.destroyAllWindows()"
   ]
  },
  {
   "cell_type": "code",
   "execution_count": null,
   "id": "7610fd1f-0dc6-4526-bcc0-e74e2f81ae08",
   "metadata": {},
   "outputs": [],
   "source": []
  }
 ],
 "metadata": {
  "kernelspec": {
   "display_name": "Python 3 (ipykernel)",
   "language": "python",
   "name": "python3"
  },
  "language_info": {
   "codemirror_mode": {
    "name": "ipython",
    "version": 3
   },
   "file_extension": ".py",
   "mimetype": "text/x-python",
   "name": "python",
   "nbconvert_exporter": "python",
   "pygments_lexer": "ipython3",
   "version": "3.9.0"
  }
 },
 "nbformat": 4,
 "nbformat_minor": 5
}
